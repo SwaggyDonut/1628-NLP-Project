{
 "cells": [
  {
   "cell_type": "code",
   "execution_count": 67,
   "metadata": {
    "collapsed": true
   },
   "outputs": [],
   "source": [
    "from pyspark.sql import *\n",
    "import pyspark.sql.functions as F\n",
    "import pyspark.sql.types as T \n",
    "import string\n",
    "from nltk.corpus import stopwords \n",
    "from nltk.tokenize import word_tokenize\n",
    "from nltk.stem import PorterStemmer\n",
    "import pandas as pd\n",
    "import matplotlib.pyplot as plt\n",
    "get_ipython().run_line_magic('matplotlib', 'inline')"
   ]
  },
  {
   "cell_type": "code",
   "execution_count": null,
   "metadata": {},
   "outputs": [],
   "source": [
    "#sc.stop()"
   ]
  },
  {
   "cell_type": "code",
   "execution_count": 2,
   "metadata": {
    "collapsed": true
   },
   "outputs": [],
   "source": [
    "from pyspark.sql import SparkSession\n",
    "import pyspark\n",
    "sc = pyspark.SparkContext(appName=\"ToxicTwitterComments\")\n",
    "spark = pyspark.sql.SQLContext(sc)"
   ]
  },
  {
   "cell_type": "markdown",
   "metadata": {},
   "source": [
    "# 1. Load data"
   ]
  },
  {
   "cell_type": "code",
   "execution_count": 3,
   "metadata": {
    "collapsed": true
   },
   "outputs": [],
   "source": [
    "##Modify path to train.csv\n",
    "trainDF = spark.read.csv('test2/train.csv', \n",
    "                         header=True, \n",
    "                         multiLine=True, \n",
    "                         encoding=\"UTF-8\",\n",
    "                         sep=',',\n",
    "                         escape='\"',\n",
    "                         inferSchema=True)"
   ]
  },
  {
   "cell_type": "markdown",
   "metadata": {},
   "source": [
    "# 1.1 Split data"
   ]
  },
  {
   "cell_type": "code",
   "execution_count": 4,
   "metadata": {},
   "outputs": [
    {
     "name": "stdout",
     "output_type": "stream",
     "text": [
      "Training Dataset Count: 95557\n",
      "Test Dataset Count: 64014\n"
     ]
    }
   ],
   "source": [
    "train, test = trainDF.randomSplit([0.6, 0.4], seed = 2018)\n",
    "print(\"Training Dataset Count: \" + str(train.count()))\n",
    "print(\"Test Dataset Count: \" + str(test.count()))"
   ]
  },
  {
   "cell_type": "code",
   "execution_count": 5,
   "metadata": {},
   "outputs": [],
   "source": [
    "train.createOrReplaceTempView('train')\n",
    "test.createOrReplaceTempView('test')"
   ]
  },
  {
   "cell_type": "code",
   "execution_count": 6,
   "metadata": {},
   "outputs": [
    {
     "name": "stdout",
     "output_type": "stream",
     "text": [
      "root\n",
      " |-- id: string (nullable = true)\n",
      " |-- comment_text: string (nullable = true)\n",
      " |-- toxic: integer (nullable = true)\n",
      " |-- severe_toxic: integer (nullable = true)\n",
      " |-- obscene: integer (nullable = true)\n",
      " |-- threat: integer (nullable = true)\n",
      " |-- insult: integer (nullable = true)\n",
      " |-- identity_hate: integer (nullable = true)\n",
      "\n"
     ]
    }
   ],
   "source": [
    "train.printSchema()"
   ]
  },
  {
   "cell_type": "code",
   "execution_count": 7,
   "metadata": {},
   "outputs": [
    {
     "data": {
      "text/html": [
       "<div>\n",
       "<style>\n",
       "    .dataframe thead tr:only-child th {\n",
       "        text-align: right;\n",
       "    }\n",
       "\n",
       "    .dataframe thead th {\n",
       "        text-align: left;\n",
       "    }\n",
       "\n",
       "    .dataframe tbody tr th {\n",
       "        vertical-align: top;\n",
       "    }\n",
       "</style>\n",
       "<table border=\"1\" class=\"dataframe\">\n",
       "  <thead>\n",
       "    <tr style=\"text-align: right;\">\n",
       "      <th></th>\n",
       "      <th>id</th>\n",
       "      <th>comment_text</th>\n",
       "      <th>toxic</th>\n",
       "      <th>severe_toxic</th>\n",
       "      <th>obscene</th>\n",
       "      <th>threat</th>\n",
       "      <th>insult</th>\n",
       "      <th>identity_hate</th>\n",
       "    </tr>\n",
       "  </thead>\n",
       "  <tbody>\n",
       "    <tr>\n",
       "      <th>0</th>\n",
       "      <td>0000997932d777bf</td>\n",
       "      <td>Explanation\\nWhy the edits made under my usern...</td>\n",
       "      <td>0</td>\n",
       "      <td>0</td>\n",
       "      <td>0</td>\n",
       "      <td>0</td>\n",
       "      <td>0</td>\n",
       "      <td>0</td>\n",
       "    </tr>\n",
       "    <tr>\n",
       "      <th>1</th>\n",
       "      <td>000103f0d9cfb60f</td>\n",
       "      <td>D'aww! He matches this background colour I'm s...</td>\n",
       "      <td>0</td>\n",
       "      <td>0</td>\n",
       "      <td>0</td>\n",
       "      <td>0</td>\n",
       "      <td>0</td>\n",
       "      <td>0</td>\n",
       "    </tr>\n",
       "    <tr>\n",
       "      <th>2</th>\n",
       "      <td>000113f07ec002fd</td>\n",
       "      <td>Hey man, I'm really not trying to edit war. It...</td>\n",
       "      <td>0</td>\n",
       "      <td>0</td>\n",
       "      <td>0</td>\n",
       "      <td>0</td>\n",
       "      <td>0</td>\n",
       "      <td>0</td>\n",
       "    </tr>\n",
       "    <tr>\n",
       "      <th>3</th>\n",
       "      <td>0001d958c54c6e35</td>\n",
       "      <td>You, sir, are my hero. Any chance you remember...</td>\n",
       "      <td>0</td>\n",
       "      <td>0</td>\n",
       "      <td>0</td>\n",
       "      <td>0</td>\n",
       "      <td>0</td>\n",
       "      <td>0</td>\n",
       "    </tr>\n",
       "    <tr>\n",
       "      <th>4</th>\n",
       "      <td>00024b59235015f3</td>\n",
       "      <td>Virgin\\nMy only warning? You'll block me? Well...</td>\n",
       "      <td>1</td>\n",
       "      <td>0</td>\n",
       "      <td>1</td>\n",
       "      <td>0</td>\n",
       "      <td>1</td>\n",
       "      <td>0</td>\n",
       "    </tr>\n",
       "    <tr>\n",
       "      <th>5</th>\n",
       "      <td>00025465d4725e87</td>\n",
       "      <td>\"\\n\\nCongratulations from me as well, use the ...</td>\n",
       "      <td>0</td>\n",
       "      <td>0</td>\n",
       "      <td>0</td>\n",
       "      <td>0</td>\n",
       "      <td>0</td>\n",
       "      <td>0</td>\n",
       "    </tr>\n",
       "    <tr>\n",
       "      <th>6</th>\n",
       "      <td>0002bcb3da6cb337</td>\n",
       "      <td>COCKSUCKER BEFORE YOU PISS AROUND ON MY WORK</td>\n",
       "      <td>1</td>\n",
       "      <td>1</td>\n",
       "      <td>1</td>\n",
       "      <td>0</td>\n",
       "      <td>1</td>\n",
       "      <td>0</td>\n",
       "    </tr>\n",
       "    <tr>\n",
       "      <th>7</th>\n",
       "      <td>0002bfc2abe2a51f</td>\n",
       "      <td>\"*::::::::I believe that you're confusing \"\"pr...</td>\n",
       "      <td>0</td>\n",
       "      <td>0</td>\n",
       "      <td>0</td>\n",
       "      <td>0</td>\n",
       "      <td>0</td>\n",
       "      <td>0</td>\n",
       "    </tr>\n",
       "    <tr>\n",
       "      <th>8</th>\n",
       "      <td>0002eeaf4c0cdf35</td>\n",
       "      <td>But isnt it against the rules to edit if you a...</td>\n",
       "      <td>0</td>\n",
       "      <td>0</td>\n",
       "      <td>0</td>\n",
       "      <td>0</td>\n",
       "      <td>0</td>\n",
       "      <td>0</td>\n",
       "    </tr>\n",
       "    <tr>\n",
       "      <th>9</th>\n",
       "      <td>00030003d620f7a8</td>\n",
       "      <td>\"\\nseems about right. nableezy - \"</td>\n",
       "      <td>0</td>\n",
       "      <td>0</td>\n",
       "      <td>0</td>\n",
       "      <td>0</td>\n",
       "      <td>0</td>\n",
       "      <td>0</td>\n",
       "    </tr>\n",
       "  </tbody>\n",
       "</table>\n",
       "</div>"
      ],
      "text/plain": [
       "                 id                                       comment_text  toxic  \\\n",
       "0  0000997932d777bf  Explanation\\nWhy the edits made under my usern...      0   \n",
       "1  000103f0d9cfb60f  D'aww! He matches this background colour I'm s...      0   \n",
       "2  000113f07ec002fd  Hey man, I'm really not trying to edit war. It...      0   \n",
       "3  0001d958c54c6e35  You, sir, are my hero. Any chance you remember...      0   \n",
       "4  00024b59235015f3  Virgin\\nMy only warning? You'll block me? Well...      1   \n",
       "5  00025465d4725e87  \"\\n\\nCongratulations from me as well, use the ...      0   \n",
       "6  0002bcb3da6cb337       COCKSUCKER BEFORE YOU PISS AROUND ON MY WORK      1   \n",
       "7  0002bfc2abe2a51f  \"*::::::::I believe that you're confusing \"\"pr...      0   \n",
       "8  0002eeaf4c0cdf35  But isnt it against the rules to edit if you a...      0   \n",
       "9  00030003d620f7a8                 \"\\nseems about right. nableezy - \"      0   \n",
       "\n",
       "   severe_toxic  obscene  threat  insult  identity_hate  \n",
       "0             0        0       0       0              0  \n",
       "1             0        0       0       0              0  \n",
       "2             0        0       0       0              0  \n",
       "3             0        0       0       0              0  \n",
       "4             0        1       0       1              0  \n",
       "5             0        0       0       0              0  \n",
       "6             1        1       0       1              0  \n",
       "7             0        0       0       0              0  \n",
       "8             0        0       0       0              0  \n",
       "9             0        0       0       0              0  "
      ]
     },
     "execution_count": 7,
     "metadata": {},
     "output_type": "execute_result"
    }
   ],
   "source": [
    "spark.sql('''\n",
    "SELECT * FROM train\n",
    "limit(10)\n",
    "''').toPandas()"
   ]
  },
  {
   "cell_type": "markdown",
   "metadata": {},
   "source": [
    "# 2. Data Cleaning"
   ]
  },
  {
   "cell_type": "code",
   "execution_count": 8,
   "metadata": {},
   "outputs": [],
   "source": [
    "stop_words = list(set(stopwords.words('english')))\n",
    "stop_words.remove('not')"
   ]
  },
  {
   "cell_type": "code",
   "execution_count": 9,
   "metadata": {
    "collapsed": true
   },
   "outputs": [],
   "source": [
    "def clean(lines):\n",
    "    lines = lines.lower().translate(str.maketrans('', '', string.punctuation))\n",
    "    lines = lines.split(' ')\n",
    "    filtered_sentence = [w for w in lines if not w in stop_words]\n",
    "    cleaned_line = []\n",
    "    for w in filtered_sentence:\n",
    "        word = PorterStemmer().stem(w)\n",
    "        cleaned_line.append(word)\n",
    "    return ' '.join(cleaned_line)"
   ]
  },
  {
   "cell_type": "code",
   "execution_count": 10,
   "metadata": {},
   "outputs": [
    {
     "data": {
      "text/plain": [
       "str"
      ]
     },
     "execution_count": 10,
     "metadata": {},
     "output_type": "execute_result"
    }
   ],
   "source": [
    "type(clean(\"'Hey man, I'm really not trying to edit war.'\"))"
   ]
  },
  {
   "cell_type": "code",
   "execution_count": 11,
   "metadata": {},
   "outputs": [
    {
     "data": {
      "text/plain": [
       "<function __main__.clean(lines)>"
      ]
     },
     "execution_count": 11,
     "metadata": {},
     "output_type": "execute_result"
    }
   ],
   "source": [
    "spark.udf.register(\"clean\", clean, T.StringType())"
   ]
  },
  {
   "cell_type": "code",
   "execution_count": 12,
   "metadata": {
    "collapsed": true
   },
   "outputs": [],
   "source": [
    "#Get rid of limit\n",
    "df_train=spark.sql(\"\"\"\n",
    "SELECT clean(comment_text) cleaned_comment, toxic, severe_toxic,obscene,threat,insult,identity_hate\n",
    "FROM train\n",
    "LIMIT 30000\n",
    "\"\"\")"
   ]
  },
  {
   "cell_type": "code",
   "execution_count": 13,
   "metadata": {},
   "outputs": [],
   "source": [
    "#cleaning test data\n",
    "df_test=spark.sql(\"\"\"\n",
    "SELECT clean(comment_text) cleaned_comment, toxic, severe_toxic,obscene,threat,insult,identity_hate\n",
    "FROM test\n",
    "LIMIT 20000\n",
    "\"\"\")"
   ]
  },
  {
   "cell_type": "code",
   "execution_count": 14,
   "metadata": {
    "collapsed": true
   },
   "outputs": [],
   "source": [
    "# get a column of array<string> for word2vec\n",
    "from pyspark.sql.functions import *\n",
    "df_train2=df_train.withColumn(\"cleaned_comment2\",split(df_train['cleaned_comment'], ' '))\n",
    "df_test2 = df_test.withColumn(\"cleaned_comment2\",split(df_test['cleaned_comment'], ' '))"
   ]
  },
  {
   "cell_type": "code",
   "execution_count": 15,
   "metadata": {},
   "outputs": [
    {
     "name": "stdout",
     "output_type": "stream",
     "text": [
      "+--------------------+-----+------------+-------+------+------+-------------+--------------------+\n",
      "|     cleaned_comment|toxic|severe_toxic|obscene|threat|insult|identity_hate|    cleaned_comment2|\n",
      "+--------------------+-----+------------+-------+------+------+-------------+--------------------+\n",
      "|explanation\n",
      "whi e...|    0|           0|      0|     0|     0|            0|[explanation\n",
      "whi,...|\n",
      "|daww match backgr...|    0|           0|      0|     0|     0|            0|[daww, match, bac...|\n",
      "+--------------------+-----+------------+-------+------+------+-------------+--------------------+\n",
      "only showing top 2 rows\n",
      "\n"
     ]
    }
   ],
   "source": [
    "df_train2.show(2)"
   ]
  },
  {
   "cell_type": "code",
   "execution_count": 16,
   "metadata": {},
   "outputs": [
    {
     "name": "stdout",
     "output_type": "stream",
     "text": [
      "root\n",
      " |-- cleaned_comment: string (nullable = true)\n",
      " |-- toxic: integer (nullable = true)\n",
      " |-- severe_toxic: integer (nullable = true)\n",
      " |-- obscene: integer (nullable = true)\n",
      " |-- threat: integer (nullable = true)\n",
      " |-- insult: integer (nullable = true)\n",
      " |-- identity_hate: integer (nullable = true)\n",
      " |-- cleaned_comment2: array (nullable = true)\n",
      " |    |-- element: string (containsNull = true)\n",
      "\n"
     ]
    }
   ],
   "source": [
    "df_train2.printSchema()"
   ]
  },
  {
   "cell_type": "markdown",
   "metadata": {},
   "source": [
    "# 3. Feature Engineering"
   ]
  },
  {
   "cell_type": "markdown",
   "metadata": {},
   "source": [
    "## 3.1 Word2Vec"
   ]
  },
  {
   "cell_type": "code",
   "execution_count": 17,
   "metadata": {
    "collapsed": true
   },
   "outputs": [],
   "source": [
    "from pyspark.ml.feature import Word2Vec\n",
    "from pyspark.ml import Pipeline\n",
    "\n",
    "word2Vec = Word2Vec(vectorSize=80, seed=42, inputCol=\"cleaned_comment2\", outputCol=\"features\")\n",
    "\n",
    "pipeline_w2v = Pipeline(stages=[word2Vec])\n",
    "pipelineModel_w2v = pipeline_w2v.fit(df_train2)\n",
    "wvfeature = pipelineModel_w2v.transform(df_train2)\n",
    "wvfeature_test = pipelineModel_w2v.transform(df_test2)"
   ]
  },
  {
   "cell_type": "code",
   "execution_count": 18,
   "metadata": {},
   "outputs": [
    {
     "name": "stdout",
     "output_type": "stream",
     "text": [
      "+--------------------+-----+------------+-------+------+------+-------------+--------------------+--------------------+\n",
      "|     cleaned_comment|toxic|severe_toxic|obscene|threat|insult|identity_hate|    cleaned_comment2|            features|\n",
      "+--------------------+-----+------------+-------+------+------+-------------+--------------------+--------------------+\n",
      "|explanation\n",
      "whi e...|    0|           0|      0|     0|     0|            0|[explanation\n",
      "whi,...|[0.01265160473822...|\n",
      "|daww match backgr...|    0|           0|      0|     0|     0|            0|[daww, match, bac...|[-0.0468042603058...|\n",
      "+--------------------+-----+------------+-------+------+------+-------------+--------------------+--------------------+\n",
      "only showing top 2 rows\n",
      "\n"
     ]
    }
   ],
   "source": [
    "wvfeature.show(2)"
   ]
  },
  {
   "cell_type": "markdown",
   "metadata": {},
   "source": [
    "Now we get the Word2Vec features， we can follow the procedure like TF-IDF to build another model and compare the performance. "
   ]
  },
  {
   "cell_type": "markdown",
   "metadata": {},
   "source": [
    "## 3.2 TF-IDF"
   ]
  },
  {
   "cell_type": "code",
   "execution_count": 19,
   "metadata": {},
   "outputs": [],
   "source": [
    "from __future__ import print_function\n",
    "from pyspark.ml.feature import HashingTF, IDF, Tokenizer\n",
    "from pyspark.ml import Pipeline\n",
    "from pyspark.sql import SparkSession"
   ]
  },
  {
   "cell_type": "code",
   "execution_count": 20,
   "metadata": {},
   "outputs": [],
   "source": [
    "#TFIDF processing pipeline\n",
    "tokenizer = Tokenizer(inputCol=\"cleaned_comment\", outputCol=\"words\")\n",
    "hashingTF = HashingTF(inputCol=tokenizer.getOutputCol(), outputCol=\"rawFeatures\")\n",
    "idf = IDF(inputCol=\"rawFeatures\", outputCol=\"features\")\n",
    "pipeline = Pipeline(stages=[tokenizer, hashingTF, idf])\n",
    "pipelineModel = pipeline.fit(df_train)\n",
    "rescaledData = pipelineModel.transform(df_train)\n",
    "rescaledData_test = pipelineModel.transform(df_test)"
   ]
  },
  {
   "cell_type": "code",
   "execution_count": 24,
   "metadata": {},
   "outputs": [],
   "source": [
    "#Save as Parquet for faster read\n",
    "#rescaledData.write.parquet(\"rescaledData.parquet\")"
   ]
  },
  {
   "cell_type": "code",
   "execution_count": 25,
   "metadata": {},
   "outputs": [],
   "source": [
    "#rescaledData = spark.read.parquet(\"rescaledData.parquet\")"
   ]
  },
  {
   "cell_type": "code",
   "execution_count": null,
   "metadata": {},
   "outputs": [],
   "source": []
  },
  {
   "cell_type": "markdown",
   "metadata": {},
   "source": [
    "# 4. Modelling (LR)"
   ]
  },
  {
   "cell_type": "markdown",
   "metadata": {},
   "source": [
    "## 4.1 Training, Testing and Evaluation"
   ]
  },
  {
   "cell_type": "markdown",
   "metadata": {},
   "source": [
    "Adjust weight to balance data"
   ]
  },
  {
   "cell_type": "code",
   "execution_count": 21,
   "metadata": {
    "collapsed": true
   },
   "outputs": [],
   "source": [
    "#get weight to adjust unbalanced\n",
    "def weight_ratio(predictions,class_name):\n",
    "    ###### lam is the coefficient timed by the weight, can be tuned\n",
    "    lam = 1\n",
    "    pos_lab=predictions[predictions[class_name]==1].count()\n",
    "    neg_lab=predictions[predictions[class_name]==0].count()\n",
    "    return neg_lab/pos_lab*lam"
   ]
  },
  {
   "cell_type": "code",
   "execution_count": 22,
   "metadata": {},
   "outputs": [],
   "source": [
    "from pyspark.ml.evaluation import BinaryClassificationEvaluator\n",
    "from pyspark.ml.classification import LogisticRegression\n",
    "evaluator = BinaryClassificationEvaluator()\n",
    "\n",
    "def recall_precision(predictions):\n",
    "    TP=predictions[(predictions.label==1)&(predictions.prediction==1)].count()\n",
    "    FP=predictions[(predictions.label==0)&(predictions.prediction==1)].count()\n",
    "    TN=predictions[(predictions.label==0)&(predictions.prediction==0)].count()\n",
    "    FN=predictions[(predictions.label==1)&(predictions.prediction==0)].count()\n",
    "    print('TP: {0}, FP: {1}, TN: {2}, FN: {3}'.format(TP,FP,TN,FN))\n",
    "    recall=TP/(TP+FN)\n",
    "    precision=TP/(TP+FP)\n",
    "    f1=2 * precision * recall / (precision + recall)\n",
    "    return recall, precision, f1"
   ]
  },
  {
   "cell_type": "code",
   "execution_count": 23,
   "metadata": {},
   "outputs": [],
   "source": [
    "class_name = [\"toxic\", 'severe_toxic', 'obscene', 'threat', 'insult', 'identity_hate']"
   ]
  },
  {
   "cell_type": "code",
   "execution_count": 29,
   "metadata": {},
   "outputs": [
    {
     "name": "stdout",
     "output_type": "stream",
     "text": [
      "Classification model for toxic Eval on train dataset\n",
      "Train Area Under ROC: 0.7787542500633686\n",
      "TP: 2503, FP: 13536, TN: 13579, FN: 382\n",
      "Precision: 0.15605711079244342\n",
      "Recall: 0.8675909878682843\n",
      "F1 score: 0.26453181145635174\n",
      "-----------------------\n",
      "Classification model for toxic Eval on test dataset\n",
      "Test Area Under ROC: 0.775155393348648\n",
      "TP: 1704, FP: 8962, TN: 9062, FN: 272\n",
      "Precision: 0.15975998499906244\n",
      "Recall: 0.8623481781376519\n",
      "F1 score: 0.26957759848125296\n",
      "=======================\n",
      "Classification model for severe_toxic Eval on train dataset\n",
      "Train Area Under ROC: 0.9222860047876548\n",
      "TP: 291, FP: 11562, TN: 18127, FN: 20\n",
      "Precision: 0.02455074664641863\n",
      "Recall: 0.9356913183279743\n",
      "F1 score: 0.04784610325550805\n",
      "-----------------------\n",
      "Classification model for severe_toxic Eval on test dataset\n",
      "Test Area Under ROC: 0.9180481186958446\n",
      "TP: 178, FP: 7730, TN: 12079, FN: 13\n",
      "Precision: 0.022508851795649976\n",
      "Recall: 0.9319371727748691\n",
      "F1 score: 0.04395604395604395\n",
      "=======================\n",
      "Classification model for obscene Eval on train dataset\n",
      "Train Area Under ROC: 0.8389343477956884\n",
      "TP: 1364, FP: 11822, TN: 16564, FN: 250\n",
      "Precision: 0.10344304565448202\n",
      "Recall: 0.8451053283767038\n",
      "F1 score: 0.18432432432432433\n",
      "-----------------------\n",
      "Classification model for obscene Eval on test dataset\n",
      "Test Area Under ROC: 0.8310749357068664\n",
      "TP: 885, FP: 7911, TN: 11032, FN: 172\n",
      "Precision: 0.10061391541609822\n",
      "Recall: 0.8372753074739829\n",
      "F1 score: 0.17964071856287422\n",
      "=======================\n",
      "Classification model for threat Eval on train dataset\n",
      "Train Area Under ROC: 0.9810309911914636\n",
      "TP: 83, FP: 1103, TN: 28808, FN: 6\n",
      "Precision: 0.0699831365935919\n",
      "Recall: 0.9325842696629213\n",
      "F1 score: 0.13019607843137254\n",
      "-----------------------\n",
      "Classification model for threat Eval on test dataset\n",
      "Test Area Under ROC: 0.8908054622340411\n",
      "TP: 30, FP: 808, TN: 19135, FN: 27\n",
      "Precision: 0.03579952267303103\n",
      "Recall: 0.5263157894736842\n",
      "F1 score: 0.0670391061452514\n",
      "=======================\n",
      "Classification model for insult Eval on train dataset\n",
      "Train Area Under ROC: 0.8245332857584273\n",
      "TP: 1322, FP: 12187, TN: 16303, FN: 188\n",
      "Precision: 0.09786068546894663\n",
      "Recall: 0.8754966887417218\n",
      "F1 score: 0.17604367800785672\n",
      "-----------------------\n",
      "Classification model for insult Eval on test dataset\n",
      "Test Area Under ROC: 0.8199344705505612\n",
      "TP: 868, FP: 8001, TN: 11005, FN: 126\n",
      "Precision: 0.0978689818468824\n",
      "Recall: 0.8732394366197183\n",
      "F1 score: 0.1760113555713272\n",
      "=======================\n",
      "Classification model for identity_hate Eval on train dataset\n",
      "Train Area Under ROC: 0.9253443033761944\n",
      "TP: 191, FP: 1212, TN: 28521, FN: 76\n",
      "Precision: 0.1361368496079829\n",
      "Recall: 0.7153558052434457\n",
      "F1 score: 0.22874251497005987\n",
      "-----------------------\n",
      "Classification model for identity_hate Eval on test dataset\n",
      "Test Area Under ROC: 0.8987155230406935\n",
      "TP: 112, FP: 835, TN: 18985, FN: 68\n",
      "Precision: 0.11826821541710665\n",
      "Recall: 0.6222222222222222\n",
      "F1 score: 0.19875776397515527\n",
      "=======================\n"
     ]
    }
   ],
   "source": [
    "results = []\n",
    "for name in class_name:\n",
    "    temp = []\n",
    "    train=rescaledData.select(\"features\",name)\n",
    "    test = rescaledData_test.select(\"features\",name)\n",
    "    ratio=weight_ratio(train,name)\n",
    "    train=train.withColumn(\"weight\", F.when(train[name]==1,ratio).otherwise(1))\n",
    "    lr = LogisticRegression(featuresCol = 'features',weightCol=\"weight\",labelCol = name, maxIter=10,regParam = 0.03, elasticNetParam =1)\n",
    "    lrModel = lr.fit(train)\n",
    "    print('Classification model for ' + str(name) + \" Eval on train dataset\")\n",
    "    predictions_train = lrModel.transform(train)\n",
    "    predictions_train = predictions_train.select(predictions_train[name].alias(\"label\"), 'rawPrediction', 'prediction', 'probability')\n",
    "    auc = evaluator.evaluate(predictions_train, {evaluator.metricName: \"areaUnderROC\"})\n",
    "    temp.append(auc)\n",
    "    print(\"Train Area Under ROC: \" + str(auc))\n",
    "    recall, precision, f1 = recall_precision(predictions_train)\n",
    "    temp.append(recall)\n",
    "    temp.append(precision)\n",
    "    temp.append(f1)\n",
    "    print(\"Precision: \" + str(precision))\n",
    "    print(\"Recall: \" + str(recall))\n",
    "    print(\"F1 score: \" + str(f1))\n",
    "    print('-----------------------')\n",
    "    predictions = lrModel.transform(test)\n",
    "    predictions=predictions.select(predictions[name].alias(\"label\"), 'rawPrediction', 'prediction', 'probability')\n",
    "    print('Classification model for ' + str(name)+ \" Eval on test dataset\")\n",
    "    auc = evaluator.evaluate(predictions, {evaluator.metricName: \"areaUnderROC\"}) \n",
    "    print(\"Test Area Under ROC: \" + str(auc))\n",
    "    temp.append(auc)\n",
    "    recall, precision, f1 = recall_precision(predictions)\n",
    "    temp.append(recall)\n",
    "    temp.append(precision)\n",
    "    temp.append(f1)\n",
    "    results.append(temp)\n",
    "    print(\"Precision: \" + str(precision))\n",
    "    print(\"Recall: \" + str(recall))\n",
    "    print(\"F1 score: \" + str(f1))\n",
    "    print('=======================')"
   ]
  },
  {
   "cell_type": "code",
   "execution_count": 40,
   "metadata": {},
   "outputs": [],
   "source": [
    "df_col = ['auc_train','precision_train','recall_train','f1_train', 'auc_test','precision_test','recall_test','f1_test']"
   ]
  },
  {
   "cell_type": "code",
   "execution_count": 41,
   "metadata": {},
   "outputs": [],
   "source": [
    "results_TFIDF = pd.DataFrame(results, columns = df_col)"
   ]
  },
  {
   "cell_type": "code",
   "execution_count": 49,
   "metadata": {},
   "outputs": [],
   "source": [
    "index_dict = {}\n",
    "for i in range(len(class_name)):\n",
    "    index_dict.update({i:class_name[i]})\n",
    "results_TFIDF = results_TFIDF.rename(index = index_dict)\n",
    "#results_TFIDF.to_csv{tfidf_results.csv}"
   ]
  },
  {
   "cell_type": "code",
   "execution_count": 52,
   "metadata": {},
   "outputs": [
    {
     "data": {
      "text/html": [
       "<div>\n",
       "<style>\n",
       "    .dataframe thead tr:only-child th {\n",
       "        text-align: right;\n",
       "    }\n",
       "\n",
       "    .dataframe thead th {\n",
       "        text-align: left;\n",
       "    }\n",
       "\n",
       "    .dataframe tbody tr th {\n",
       "        vertical-align: top;\n",
       "    }\n",
       "</style>\n",
       "<table border=\"1\" class=\"dataframe\">\n",
       "  <thead>\n",
       "    <tr style=\"text-align: right;\">\n",
       "      <th></th>\n",
       "      <th>auc_train</th>\n",
       "      <th>precision_train</th>\n",
       "      <th>recall_train</th>\n",
       "      <th>f1_train</th>\n",
       "      <th>auc_test</th>\n",
       "      <th>precision_test</th>\n",
       "      <th>recall_test</th>\n",
       "      <th>f1_test</th>\n",
       "    </tr>\n",
       "  </thead>\n",
       "  <tbody>\n",
       "    <tr>\n",
       "      <th>toxic</th>\n",
       "      <td>0.778754</td>\n",
       "      <td>0.867591</td>\n",
       "      <td>0.156057</td>\n",
       "      <td>0.264532</td>\n",
       "      <td>0.775155</td>\n",
       "      <td>0.862348</td>\n",
       "      <td>0.159760</td>\n",
       "      <td>0.269578</td>\n",
       "    </tr>\n",
       "    <tr>\n",
       "      <th>severe_toxic</th>\n",
       "      <td>0.922286</td>\n",
       "      <td>0.935691</td>\n",
       "      <td>0.024551</td>\n",
       "      <td>0.047846</td>\n",
       "      <td>0.918048</td>\n",
       "      <td>0.931937</td>\n",
       "      <td>0.022509</td>\n",
       "      <td>0.043956</td>\n",
       "    </tr>\n",
       "    <tr>\n",
       "      <th>obscene</th>\n",
       "      <td>0.838934</td>\n",
       "      <td>0.845105</td>\n",
       "      <td>0.103443</td>\n",
       "      <td>0.184324</td>\n",
       "      <td>0.831075</td>\n",
       "      <td>0.837275</td>\n",
       "      <td>0.100614</td>\n",
       "      <td>0.179641</td>\n",
       "    </tr>\n",
       "    <tr>\n",
       "      <th>threat</th>\n",
       "      <td>0.981031</td>\n",
       "      <td>0.932584</td>\n",
       "      <td>0.069983</td>\n",
       "      <td>0.130196</td>\n",
       "      <td>0.890805</td>\n",
       "      <td>0.526316</td>\n",
       "      <td>0.035800</td>\n",
       "      <td>0.067039</td>\n",
       "    </tr>\n",
       "    <tr>\n",
       "      <th>insult</th>\n",
       "      <td>0.824533</td>\n",
       "      <td>0.875497</td>\n",
       "      <td>0.097861</td>\n",
       "      <td>0.176044</td>\n",
       "      <td>0.819934</td>\n",
       "      <td>0.873239</td>\n",
       "      <td>0.097869</td>\n",
       "      <td>0.176011</td>\n",
       "    </tr>\n",
       "    <tr>\n",
       "      <th>identity_hate</th>\n",
       "      <td>0.925344</td>\n",
       "      <td>0.715356</td>\n",
       "      <td>0.136137</td>\n",
       "      <td>0.228743</td>\n",
       "      <td>0.898716</td>\n",
       "      <td>0.622222</td>\n",
       "      <td>0.118268</td>\n",
       "      <td>0.198758</td>\n",
       "    </tr>\n",
       "  </tbody>\n",
       "</table>\n",
       "</div>"
      ],
      "text/plain": [
       "               auc_train  precision_train  recall_train  f1_train  auc_test  \\\n",
       "toxic           0.778754         0.867591      0.156057  0.264532  0.775155   \n",
       "severe_toxic    0.922286         0.935691      0.024551  0.047846  0.918048   \n",
       "obscene         0.838934         0.845105      0.103443  0.184324  0.831075   \n",
       "threat          0.981031         0.932584      0.069983  0.130196  0.890805   \n",
       "insult          0.824533         0.875497      0.097861  0.176044  0.819934   \n",
       "identity_hate   0.925344         0.715356      0.136137  0.228743  0.898716   \n",
       "\n",
       "               precision_test  recall_test   f1_test  \n",
       "toxic                0.862348     0.159760  0.269578  \n",
       "severe_toxic         0.931937     0.022509  0.043956  \n",
       "obscene              0.837275     0.100614  0.179641  \n",
       "threat               0.526316     0.035800  0.067039  \n",
       "insult               0.873239     0.097869  0.176011  \n",
       "identity_hate        0.622222     0.118268  0.198758  "
      ]
     },
     "execution_count": 52,
     "metadata": {},
     "output_type": "execute_result"
    }
   ],
   "source": [
    "#TFIDF Evaluation\n",
    "results_TFIDF"
   ]
  },
  {
   "cell_type": "code",
   "execution_count": 60,
   "metadata": {},
   "outputs": [
    {
     "name": "stdout",
     "output_type": "stream",
     "text": [
      "Classification model for toxic Eval on train dataset\n",
      "Train Area Under ROC: 0.93225144459818\n",
      "TP: 2271, FP: 2523, TN: 24592, FN: 614\n",
      "Precision: 0.4737171464330413\n",
      "Recall: 0.7871750433275563\n",
      "F1 score: 0.5914832660502669\n",
      "-----------------------\n",
      "Classification model for toxic Eval on test dataset\n",
      "Test Area Under ROC: 0.9330143310941432\n",
      "TP: 1555, FP: 1647, TN: 16377, FN: 421\n",
      "Precision: 0.48563397876327297\n",
      "Recall: 0.7869433198380567\n",
      "F1 score: 0.600617999227501\n",
      "=======================\n",
      "Classification model for severe_toxic Eval on train dataset\n",
      "Train Area Under ROC: 0.9814754866607794\n",
      "TP: 282, FP: 1351, TN: 28338, FN: 29\n",
      "Precision: 0.1726883037354562\n",
      "Recall: 0.9067524115755627\n",
      "F1 score: 0.2901234567901234\n",
      "-----------------------\n",
      "Classification model for severe_toxic Eval on test dataset\n",
      "Test Area Under ROC: 0.9809946771775708\n",
      "TP: 174, FP: 892, TN: 18917, FN: 17\n",
      "Precision: 0.16322701688555347\n",
      "Recall: 0.9109947643979057\n",
      "F1 score: 0.2768496420047733\n",
      "=======================\n",
      "Classification model for obscene Eval on train dataset\n",
      "Train Area Under ROC: 0.9608455016177124\n",
      "TP: 1356, FP: 1763, TN: 26623, FN: 258\n",
      "Precision: 0.43475472907983326\n",
      "Recall: 0.8401486988847584\n",
      "F1 score: 0.5729980984576378\n",
      "-----------------------\n",
      "Classification model for obscene Eval on test dataset\n",
      "Test Area Under ROC: 0.9617590509914877\n",
      "TP: 884, FP: 1155, TN: 17788, FN: 173\n",
      "Precision: 0.4335458558116724\n",
      "Recall: 0.836329233680227\n",
      "F1 score: 0.5710594315245477\n",
      "=======================\n",
      "Classification model for threat Eval on train dataset\n",
      "Train Area Under ROC: 0.9526306319231924\n",
      "TP: 77, FP: 2603, TN: 27308, FN: 12\n",
      "Precision: 0.028731343283582088\n",
      "Recall: 0.8651685393258427\n",
      "F1 score: 0.055615745756590826\n",
      "-----------------------\n",
      "Classification model for threat Eval on test dataset\n",
      "Test Area Under ROC: 0.943539086396204\n",
      "TP: 49, FP: 1704, TN: 18239, FN: 8\n",
      "Precision: 0.027952082144894468\n",
      "Recall: 0.8596491228070176\n",
      "F1 score: 0.054143646408839785\n",
      "=======================\n",
      "Classification model for insult Eval on train dataset\n",
      "Train Area Under ROC: 0.9510979337471177\n",
      "TP: 1238, FP: 2087, TN: 26403, FN: 272\n",
      "Precision: 0.3723308270676692\n",
      "Recall: 0.8198675496688742\n",
      "F1 score: 0.5120992761116857\n",
      "-----------------------\n",
      "Classification model for insult Eval on test dataset\n",
      "Test Area Under ROC: 0.9509871234140083\n",
      "TP: 813, FP: 1346, TN: 17660, FN: 181\n",
      "Precision: 0.3765632237146827\n",
      "Recall: 0.817907444668008\n",
      "F1 score: 0.5156993339676499\n",
      "=======================\n",
      "Classification model for identity_hate Eval on train dataset\n",
      "Train Area Under ROC: 0.9521609364545325\n",
      "TP: 229, FP: 2486, TN: 27247, FN: 38\n",
      "Precision: 0.0843462246777164\n",
      "Recall: 0.8576779026217228\n",
      "F1 score: 0.15358819584171698\n",
      "-----------------------\n",
      "Classification model for identity_hate Eval on test dataset\n",
      "Test Area Under ROC: 0.9408074055384332\n",
      "TP: 151, FP: 1566, TN: 18254, FN: 29\n",
      "Precision: 0.08794408852649971\n",
      "Recall: 0.8388888888888889\n",
      "F1 score: 0.1591987348444913\n",
      "=======================\n"
     ]
    }
   ],
   "source": [
    "results_w2v = []\n",
    "for name in class_name:\n",
    "    temp = []\n",
    "    train=wvfeature.select(\"features\",name)\n",
    "    test = wvfeature_test.select(\"features\",name)\n",
    "    ratio=weight_ratio(train,name)\n",
    "    train=train.withColumn(\"weight\", F.when(train[name]==1,ratio).otherwise(1))\n",
    "    lr = LogisticRegression(featuresCol = 'features',weightCol=\"weight\",labelCol = name, maxIter=10,regParam = 0.01, elasticNetParam =1)\n",
    "    lrModel = lr.fit(train)\n",
    "    print('Classification model for ' + str(name) + \" Eval on train dataset\")\n",
    "    predictions_train = lrModel.transform(train)\n",
    "    predictions_train = predictions_train.select(predictions_train[name].alias(\"label\"), 'rawPrediction', 'prediction', 'probability')\n",
    "    auc = evaluator.evaluate(predictions_train, {evaluator.metricName: \"areaUnderROC\"})\n",
    "    temp.append(auc)\n",
    "    print(\"Train Area Under ROC: \" + str(auc))\n",
    "    recall, precision, f1 = recall_precision(predictions_train)\n",
    "    temp.append(recall)\n",
    "    temp.append(precision)\n",
    "    temp.append(f1)\n",
    "    print(\"Precision: \" + str(precision))\n",
    "    print(\"Recall: \" + str(recall))\n",
    "    print(\"F1 score: \" + str(f1))\n",
    "    print('-----------------------')\n",
    "    predictions = lrModel.transform(test)\n",
    "    predictions=predictions.select(predictions[name].alias(\"label\"), 'rawPrediction', 'prediction', 'probability')\n",
    "    print('Classification model for ' + str(name)+ \" Eval on test dataset\")\n",
    "    auc = evaluator.evaluate(predictions, {evaluator.metricName: \"areaUnderROC\"}) \n",
    "    temp.append(auc)\n",
    "    print(\"Test Area Under ROC: \" + str(auc))\n",
    "    recall, precision, f1 = recall_precision(predictions)\n",
    "    temp.append(recall)\n",
    "    temp.append(precision)\n",
    "    temp.append(f1)\n",
    "    results_w2v.append(temp)\n",
    "    print(\"Precision: \" + str(precision))\n",
    "    print(\"Recall: \" + str(recall))\n",
    "    print(\"F1 score: \" + str(f1))\n",
    "    print('=======================')"
   ]
  },
  {
   "cell_type": "code",
   "execution_count": 61,
   "metadata": {},
   "outputs": [],
   "source": [
    "results_w2vDF = pd.DataFrame(results_w2v, columns = df_col)"
   ]
  },
  {
   "cell_type": "code",
   "execution_count": 62,
   "metadata": {},
   "outputs": [],
   "source": [
    "results_w2vDF = results_w2vDF.rename(index = index_dict)\n",
    "#results_w2vDF.to_csv('w2v_results.csv')"
   ]
  },
  {
   "cell_type": "code",
   "execution_count": 63,
   "metadata": {},
   "outputs": [
    {
     "data": {
      "text/html": [
       "<div>\n",
       "<style>\n",
       "    .dataframe thead tr:only-child th {\n",
       "        text-align: right;\n",
       "    }\n",
       "\n",
       "    .dataframe thead th {\n",
       "        text-align: left;\n",
       "    }\n",
       "\n",
       "    .dataframe tbody tr th {\n",
       "        vertical-align: top;\n",
       "    }\n",
       "</style>\n",
       "<table border=\"1\" class=\"dataframe\">\n",
       "  <thead>\n",
       "    <tr style=\"text-align: right;\">\n",
       "      <th></th>\n",
       "      <th>auc_train</th>\n",
       "      <th>precision_train</th>\n",
       "      <th>recall_train</th>\n",
       "      <th>f1_train</th>\n",
       "      <th>auc_test</th>\n",
       "      <th>precision_test</th>\n",
       "      <th>recall_test</th>\n",
       "      <th>f1_test</th>\n",
       "    </tr>\n",
       "  </thead>\n",
       "  <tbody>\n",
       "    <tr>\n",
       "      <th>toxic</th>\n",
       "      <td>0.932251</td>\n",
       "      <td>0.787175</td>\n",
       "      <td>0.473717</td>\n",
       "      <td>0.591483</td>\n",
       "      <td>0.933014</td>\n",
       "      <td>0.786943</td>\n",
       "      <td>0.485634</td>\n",
       "      <td>0.600618</td>\n",
       "    </tr>\n",
       "    <tr>\n",
       "      <th>severe_toxic</th>\n",
       "      <td>0.981475</td>\n",
       "      <td>0.906752</td>\n",
       "      <td>0.172688</td>\n",
       "      <td>0.290123</td>\n",
       "      <td>0.980995</td>\n",
       "      <td>0.910995</td>\n",
       "      <td>0.163227</td>\n",
       "      <td>0.276850</td>\n",
       "    </tr>\n",
       "    <tr>\n",
       "      <th>obscene</th>\n",
       "      <td>0.960846</td>\n",
       "      <td>0.840149</td>\n",
       "      <td>0.434755</td>\n",
       "      <td>0.572998</td>\n",
       "      <td>0.961759</td>\n",
       "      <td>0.836329</td>\n",
       "      <td>0.433546</td>\n",
       "      <td>0.571059</td>\n",
       "    </tr>\n",
       "    <tr>\n",
       "      <th>threat</th>\n",
       "      <td>0.952631</td>\n",
       "      <td>0.865169</td>\n",
       "      <td>0.028731</td>\n",
       "      <td>0.055616</td>\n",
       "      <td>0.943539</td>\n",
       "      <td>0.859649</td>\n",
       "      <td>0.027952</td>\n",
       "      <td>0.054144</td>\n",
       "    </tr>\n",
       "    <tr>\n",
       "      <th>insult</th>\n",
       "      <td>0.951098</td>\n",
       "      <td>0.819868</td>\n",
       "      <td>0.372331</td>\n",
       "      <td>0.512099</td>\n",
       "      <td>0.950987</td>\n",
       "      <td>0.817907</td>\n",
       "      <td>0.376563</td>\n",
       "      <td>0.515699</td>\n",
       "    </tr>\n",
       "    <tr>\n",
       "      <th>identity_hate</th>\n",
       "      <td>0.952161</td>\n",
       "      <td>0.857678</td>\n",
       "      <td>0.084346</td>\n",
       "      <td>0.153588</td>\n",
       "      <td>0.940807</td>\n",
       "      <td>0.838889</td>\n",
       "      <td>0.087944</td>\n",
       "      <td>0.159199</td>\n",
       "    </tr>\n",
       "  </tbody>\n",
       "</table>\n",
       "</div>"
      ],
      "text/plain": [
       "               auc_train  precision_train  recall_train  f1_train  auc_test  \\\n",
       "toxic           0.932251         0.787175      0.473717  0.591483  0.933014   \n",
       "severe_toxic    0.981475         0.906752      0.172688  0.290123  0.980995   \n",
       "obscene         0.960846         0.840149      0.434755  0.572998  0.961759   \n",
       "threat          0.952631         0.865169      0.028731  0.055616  0.943539   \n",
       "insult          0.951098         0.819868      0.372331  0.512099  0.950987   \n",
       "identity_hate   0.952161         0.857678      0.084346  0.153588  0.940807   \n",
       "\n",
       "               precision_test  recall_test   f1_test  \n",
       "toxic                0.786943     0.485634  0.600618  \n",
       "severe_toxic         0.910995     0.163227  0.276850  \n",
       "obscene              0.836329     0.433546  0.571059  \n",
       "threat               0.859649     0.027952  0.054144  \n",
       "insult               0.817907     0.376563  0.515699  \n",
       "identity_hate        0.838889     0.087944  0.159199  "
      ]
     },
     "execution_count": 63,
     "metadata": {},
     "output_type": "execute_result"
    }
   ],
   "source": [
    "#Word2Vec Evaluation\n",
    "results_w2vDF"
   ]
  },
  {
   "cell_type": "code",
   "execution_count": null,
   "metadata": {},
   "outputs": [],
   "source": []
  },
  {
   "cell_type": "markdown",
   "metadata": {},
   "source": [
    "# AUC plotting"
   ]
  },
  {
   "cell_type": "code",
   "execution_count": 64,
   "metadata": {},
   "outputs": [
    {
     "name": "stdout",
     "output_type": "stream",
     "text": [
      "Classification model for toxic Eval on train dataset\n",
      "TP: 2885, FP: 27115, TN: 0, FN: 0\n",
      "-----------------------\n",
      "Classification model for toxic Eval on test dataset\n",
      "TP: 1976, FP: 18024, TN: 0, FN: 0\n",
      "=======================\n",
      "Classification model for toxic Eval on train dataset\n",
      "TP: 2884, FP: 26613, TN: 502, FN: 1\n",
      "-----------------------\n",
      "Classification model for toxic Eval on test dataset\n",
      "TP: 1973, FP: 17692, TN: 332, FN: 3\n",
      "=======================\n",
      "Classification model for toxic Eval on train dataset\n",
      "TP: 2880, FP: 26030, TN: 1085, FN: 5\n",
      "-----------------------\n",
      "Classification model for toxic Eval on test dataset\n",
      "TP: 1970, FP: 17305, TN: 719, FN: 6\n",
      "=======================\n",
      "Classification model for toxic Eval on train dataset\n",
      "TP: 2865, FP: 24759, TN: 2356, FN: 20\n",
      "-----------------------\n",
      "Classification model for toxic Eval on test dataset\n",
      "TP: 1962, FP: 16426, TN: 1598, FN: 14\n",
      "=======================\n",
      "Classification model for toxic Eval on train dataset\n",
      "TP: 2806, FP: 21588, TN: 5527, FN: 79\n",
      "-----------------------\n",
      "Classification model for toxic Eval on test dataset\n",
      "TP: 1918, FP: 14300, TN: 3724, FN: 58\n",
      "=======================\n",
      "Classification model for toxic Eval on train dataset\n",
      "TP: 2503, FP: 13536, TN: 13579, FN: 382\n",
      "-----------------------\n",
      "Classification model for toxic Eval on test dataset\n",
      "TP: 1704, FP: 8962, TN: 9062, FN: 272\n",
      "=======================\n",
      "Classification model for toxic Eval on train dataset\n",
      "TP: 471, FP: 117, TN: 26998, FN: 2414\n",
      "-----------------------\n",
      "Classification model for toxic Eval on test dataset\n",
      "TP: 314, FP: 59, TN: 17965, FN: 1662\n",
      "=======================\n",
      "Classification model for toxic Eval on train dataset\n",
      "TP: 156, FP: 24, TN: 27091, FN: 2729\n",
      "-----------------------\n",
      "Classification model for toxic Eval on test dataset\n",
      "TP: 107, FP: 8, TN: 18016, FN: 1869\n",
      "=======================\n",
      "Classification model for toxic Eval on train dataset\n",
      "TP: 37, FP: 2, TN: 27113, FN: 2848\n",
      "-----------------------\n",
      "Classification model for toxic Eval on test dataset\n",
      "TP: 31, FP: 1, TN: 18023, FN: 1945\n",
      "=======================\n",
      "Classification model for toxic Eval on train dataset\n",
      "TP: 6, FP: 0, TN: 27115, FN: 2879\n",
      "-----------------------\n",
      "Classification model for toxic Eval on test dataset\n",
      "TP: 16, FP: 1, TN: 18023, FN: 1960\n",
      "=======================\n"
     ]
    }
   ],
   "source": [
    "##########This part is used for overlaying test ROC on train ROC plot. If only train ROC needed, use the \n",
    "##########below section. Takes LONG time to run!\n",
    "from pyspark.ml.evaluation import BinaryClassificationEvaluator\n",
    "from pyspark.ml.classification import LogisticRegression\n",
    "import numpy as np\n",
    "evaluator = BinaryClassificationEvaluator()\n",
    "\n",
    "def recall_precision_auc(predictions):\n",
    "    TP=predictions[(predictions.label==1)&(predictions.prediction==1)].count()\n",
    "    FP=predictions[(predictions.label==0)&(predictions.prediction==1)].count()\n",
    "    TN=predictions[(predictions.label==0)&(predictions.prediction==0)].count()\n",
    "    FN=predictions[(predictions.label==1)&(predictions.prediction==0)].count()\n",
    "    print('TP: {0}, FP: {1}, TN: {2}, FN: {3}'.format(TP,FP,TN,FN))\n",
    "    recall=TP/(TP+FN)\n",
    "    precision=TP/(TP+FP)\n",
    "    f1=2 * precision * recall / (precision + recall)\n",
    "    tpr = TP/(TP+FN)\n",
    "    fpr = FP/(TN+FP)\n",
    "    return recall, precision, f1, tpr, fpr\n",
    "#for roc curve\n",
    "roc_list = ['toxic']\n",
    "tpr_train = []\n",
    "fpr_train = []\n",
    "tpr_test = []\n",
    "fpr_test = []\n",
    "for th in np.linspace(0, 1, 10, endpoint=False):\n",
    "    for name in roc_list:\n",
    "        train=rescaledData.select(\"features\",name)\n",
    "        test = rescaledData_test.select(\"features\",name)\n",
    "        ratio=weight_ratio(train,name)\n",
    "        train=train.withColumn(\"weight\", F.when(train[name]==1,ratio).otherwise(1))\n",
    "        lr = LogisticRegression(featuresCol = 'features',weightCol=\"weight\",labelCol = name, maxIter=10,regParam = 0.03, elasticNetParam =1, threshold = th)\n",
    "        lrModel = lr.fit(train)\n",
    "        print('Classification model for ' + str(name) + \" Eval on train dataset\")\n",
    "        predictions_train = lrModel.transform(train)\n",
    "        predictions_train = predictions_train.select(predictions_train[name].alias(\"label\"), 'rawPrediction', 'prediction', 'probability')\n",
    "        recall, precision, f1, tpr, fpr = recall_precision_auc(predictions_train)\n",
    "        tpr_train.append(tpr)\n",
    "        fpr_train.append(fpr)\n",
    "        print('-----------------------')\n",
    "        predictions = lrModel.transform(test)\n",
    "        predictions=predictions.select(predictions[name].alias(\"label\"), 'rawPrediction', 'prediction', 'probability')\n",
    "        print('Classification model for ' + str(name)+ \" Eval on test dataset\")\n",
    "        recall, precision, f1, tpr, fpr = recall_precision_auc(predictions)\n",
    "        tpr_test.append(tpr)\n",
    "        fpr_test.append(fpr)\n",
    "        print('=======================')"
   ]
  },
  {
   "cell_type": "code",
   "execution_count": 118,
   "metadata": {},
   "outputs": [
    {
     "data": {
      "image/png": "[encoded data removed]",
      "text/plain": [
       "<Figure size 360x360 with 1 Axes>"
      ]
     },
     "metadata": {},
     "output_type": "display_data"
    }
   ],
   "source": [
    "fpr_train.append(0)\n",
    "tpr_train.append(0)\n",
    "fpr_test.append(0)\n",
    "tpr_test.append(0)\n",
    "plt.figure(figsize=(5,5))\n",
    "plt.plot([0, 1], [0, 1], 'r--')\n",
    "plt.plot(fpr_train,\n",
    "         tpr_train, label = 'train')\n",
    "plt.plot(fpr_test,\n",
    "         tpr_test, label = 'test')\n",
    "legend = plt.legend(loc='lower right', shadow=False, fontsize='x-large')\n",
    "plt.xlabel('FPR')\n",
    "plt.ylabel('TPR')\n",
    "plt.title('Train AUC vs Test AUC')\n",
    "plt.show()"
   ]
  },
  {
   "cell_type": "code",
   "execution_count": 119,
   "metadata": {},
   "outputs": [],
   "source": [
    "#####This part is used to to obtain model trainning fpr and tpr wrt. different thresholds\n",
    "example_class = ['severe_toxic']\n",
    "train=rescaledData.select(\"features\",name)\n",
    "test = rescaledData_test.select(\"features\",name)\n",
    "ratio=weight_ratio(train,name)\n",
    "train=train.withColumn(\"weight\", F.when(train[name]==1,ratio).otherwise(1))\n",
    "lr = LogisticRegression(featuresCol = 'features',weightCol=\"weight\",labelCol = name, maxIter=10,regParam = 0.03, elasticNetParam =1, threshold = th)\n",
    "lrModel = lr.fit(train)\n",
    "#predictions_train = lrModel.transform(train)"
   ]
  },
  {
   "cell_type": "code",
   "execution_count": 121,
   "metadata": {},
   "outputs": [
    {
     "data": {
      "image/png": "[encoded data removed]",
      "text/plain": [
       "<Figure size 360x360 with 1 Axes>"
      ]
     },
     "metadata": {},
     "output_type": "display_data"
    }
   ],
   "source": [
    "fpr = lrModel.summary.roc.select('FPR').collect()\n",
    "tpr = lrModel.summary.roc.select('TPR').collect()\n",
    "plt.figure(figsize=(5,5))\n",
    "plt.plot([0, 1], [0, 1], 'r--')\n",
    "plt.plot(fpr,\n",
    "         tpr)\n",
    "plt.xlabel('FPR')\n",
    "plt.ylabel('TPR')\n",
    "plt.show()"
   ]
  },
  {
   "cell_type": "code",
   "execution_count": null,
   "metadata": {},
   "outputs": [],
   "source": []
  }
 ],
 "metadata": {
  "kernelspec": {
   "display_name": "Python 3 + Pyspark",
   "language": "python",
   "name": "pyspark3"
  },
  "language_info": {
   "codemirror_mode": {
    "name": "ipython",
    "version": 3
   },
   "file_extension": ".py",
   "mimetype": "text/x-python",
   "name": "python",
   "nbconvert_exporter": "python",
   "pygments_lexer": "ipython3",
   "version": "3.6.8"
  }
 },
 "nbformat": 4,
 "nbformat_minor": 2
}
