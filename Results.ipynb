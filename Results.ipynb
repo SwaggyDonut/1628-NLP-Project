{
 "cells": [
  {
   "cell_type": "code",
   "execution_count": 1,
   "metadata": {},
   "outputs": [],
   "source": [
    "import numpy as np\n",
    "import matplotlib.pyplot as plt"
   ]
  },
  {
   "cell_type": "code",
   "execution_count": 2,
   "metadata": {},
   "outputs": [],
   "source": [
    "class_name = [\"toxic\", 'severe_toxic', 'obscene', 'threat', 'insult', 'identity_hate']"
   ]
  },
  {
   "cell_type": "code",
   "execution_count": 3,
   "metadata": {},
   "outputs": [
    {
     "data": {
      "text/plain": [
       "['toxic', 'severe_toxic', 'obscene', 'threat', 'insult', 'identity_hate']"
      ]
     },
     "execution_count": 3,
     "metadata": {},
     "output_type": "execute_result"
    }
   ],
   "source": [
    "class_name"
   ]
  },
  {
   "cell_type": "markdown",
   "metadata": {},
   "source": [
    "Param_set_1: lambda = 0.8, regParam = 0.01, vectorizer = TFIDF vectorizer"
   ]
  },
  {
   "cell_type": "code",
   "execution_count": 4,
   "metadata": {},
   "outputs": [],
   "source": [
    "AUC_param_1_train = np.array([0.9231696140957592, 0.9903115307249665, 0.9743964205618949, 0.9971894437199038, 0.9725688580164292, 0.9936707790303559])\n",
    "AUC_param_1_test = np.array([0.8826279315843076, 0.9396037743874533, 0.9033352650785924, 0.8893185161322014, 0.9146954936011652, 0.9297889610388705])"
   ]
  },
  {
   "cell_type": "code",
   "execution_count": 82,
   "metadata": {},
   "outputs": [
    {
     "data": {
      "text/plain": [
       "(0.9752177743582182, 0.9098949903037651)"
      ]
     },
     "execution_count": 82,
     "metadata": {},
     "output_type": "execute_result"
    }
   ],
   "source": [
    "AUC_param_1_train.mean(),AUC_param_1_test.mean()"
   ]
  },
  {
   "cell_type": "markdown",
   "metadata": {},
   "source": [
    "Param_set_2: lambda = 0.8, regParam = 0.01, vectorizer = Word2Vector vectorizer"
   ]
  },
  {
   "cell_type": "code",
   "execution_count": 5,
   "metadata": {},
   "outputs": [],
   "source": [
    "AUC_param_2_train = np.array([0.9185314172975141, 0.979000133876842, 0.946950107867909, 0.94858077096708, 0.9343413230486164, 0.9405315383514269])\n",
    "AUC_param_2_test = np.array([0.9166322237069751, 0.9748375645133623, 0.9485219042421829, 0.9283580320455713, 0.937867005942049, 0.9340805145889253])"
   ]
  },
  {
   "cell_type": "code",
   "execution_count": 83,
   "metadata": {},
   "outputs": [
    {
     "data": {
      "text/plain": [
       "(0.9446558819015647, 0.9400495408398443)"
      ]
     },
     "execution_count": 83,
     "metadata": {},
     "output_type": "execute_result"
    }
   ],
   "source": [
    "AUC_param_2_train.mean(),AUC_param_2_test.mean()"
   ]
  },
  {
   "cell_type": "markdown",
   "metadata": {},
   "source": [
    "Param_set_3: lambda = 0.8, regParam = 0.03, vectorizer = TFIDF vectorizer"
   ]
  },
  {
   "cell_type": "code",
   "execution_count": 6,
   "metadata": {},
   "outputs": [],
   "source": [
    "AUC_param_3_train = np.array([0.7925765935077272, 0.9536388519736299, 0.8736628209392006, 0.9841406563503109, 0.8613830515477379, 0.9503581098130638])\n",
    "AUC_param_3_test = np.array([0.7837334512342274, 0.93306647714382, 0.8586253193304193, 0.8903146198545964, 0.8559987821169432, 0.9125022419513845])"
   ]
  },
  {
   "cell_type": "code",
   "execution_count": 84,
   "metadata": {},
   "outputs": [
    {
     "data": {
      "text/plain": [
       "(0.9026266806886117, 0.8723734819385651)"
      ]
     },
     "execution_count": 84,
     "metadata": {},
     "output_type": "execute_result"
    }
   ],
   "source": [
    "AUC_param_3_train.mean(),AUC_param_3_test.mean()"
   ]
  },
  {
   "cell_type": "markdown",
   "metadata": {},
   "source": [
    "Param_set_4: lambda = 0.8, regParam = 0.03, vectorizer = Word2Vector vectorizer"
   ]
  },
  {
   "cell_type": "code",
   "execution_count": 7,
   "metadata": {},
   "outputs": [],
   "source": [
    "AUC_param_4_train = np.array([0.9082213708364296, 0.9766856688777051, 0.9381411626838633, 0.9436767970003813, 0.9270311197518223, 0.9324115637209262])\n",
    "AUC_param_4_test = np.array([0.9035071212475001, 0.9712414750169678, 0.939435304923552, 0.9205229278612607, 0.9303282317130485, 0.9312301791114255])"
   ]
  },
  {
   "cell_type": "code",
   "execution_count": 85,
   "metadata": {},
   "outputs": [
    {
     "data": {
      "text/plain": [
       "(0.9376946138118546, 0.9327108733122924)"
      ]
     },
     "execution_count": 85,
     "metadata": {},
     "output_type": "execute_result"
    }
   ],
   "source": [
    "AUC_param_4_train.mean(),AUC_param_4_test.mean()"
   ]
  },
  {
   "cell_type": "markdown",
   "metadata": {},
   "source": [
    "Param_set_5: lambda = 0.8, regParam = 0.05, vectorizer = TFIDF vectorizer"
   ]
  },
  {
   "cell_type": "code",
   "execution_count": 8,
   "metadata": {},
   "outputs": [],
   "source": [
    "AUC_param_5_train = np.array([0.652473604116302, 0.908920389732531, 0.7403988252076057, 0.956677383251403, 0.7335940376975887, 0.8747148965771214])\n",
    "AUC_param_5_test = np.array([0.6481121118336401, 0.917955900493421, 0.7224818396273939, 0.8766183836222606, 0.7297822751747897, 0.8687105620368317])"
   ]
  },
  {
   "cell_type": "code",
   "execution_count": 86,
   "metadata": {},
   "outputs": [
    {
     "data": {
      "text/plain": [
       "(0.811129856097092, 0.7939435121313895)"
      ]
     },
     "execution_count": 86,
     "metadata": {},
     "output_type": "execute_result"
    }
   ],
   "source": [
    "AUC_param_5_train.mean(),AUC_param_5_test.mean()"
   ]
  },
  {
   "cell_type": "markdown",
   "metadata": {},
   "source": [
    "Param_set_6: lambda = 0.8, regParam = 0.05, vectorizer = Word2Vector vectorizer"
   ]
  },
  {
   "cell_type": "code",
   "execution_count": 9,
   "metadata": {},
   "outputs": [],
   "source": [
    "AUC_param_6_train = np.array([0.8942710178006029, 0.9745201688236883, 0.9338547540475363, 0.9422229258627479, 0.9168939698637804, 0.9298031112108075])\n",
    "AUC_param_6_test = np.array([0.8893251829368065, 0.9699591828776478, 0.9358833376190191, 0.9194759172361557, 0.9218919579285102, 0.9291915319456451])"
   ]
  },
  {
   "cell_type": "code",
   "execution_count": 87,
   "metadata": {},
   "outputs": [
    {
     "data": {
      "text/plain": [
       "(0.9319276579348607, 0.9276211850906307)"
      ]
     },
     "execution_count": 87,
     "metadata": {},
     "output_type": "execute_result"
    }
   ],
   "source": [
    "AUC_param_6_train.mean(),AUC_param_6_test.mean()"
   ]
  },
  {
   "cell_type": "markdown",
   "metadata": {},
   "source": [
    "Param_set_7: lambda = 1, regParam = 0.01, vectorizer = TFIDF vectorizer"
   ]
  },
  {
   "cell_type": "code",
   "execution_count": 60,
   "metadata": {},
   "outputs": [],
   "source": [
    "AUC_param_7_train = np.array([0.918148945569096, 0.9901303539066856, 0.9726708741872349, 0.9974065446930176, 0.969400982504576, 0.9930654500071616])\n",
    "AUC_param_7_test = np.array([0.8794289340732048, 0.9398448134074128, 0.9012475511823387, 0.8924565087894971, 0.911903586288311, 0.9299061539526413])"
   ]
  },
  {
   "cell_type": "code",
   "execution_count": 88,
   "metadata": {},
   "outputs": [
    {
     "data": {
      "text/plain": [
       "(0.9734705251446286, 0.9091312579489009)"
      ]
     },
     "execution_count": 88,
     "metadata": {},
     "output_type": "execute_result"
    }
   ],
   "source": [
    "AUC_param_7_train.mean(),AUC_param_7_test.mean()"
   ]
  },
  {
   "cell_type": "markdown",
   "metadata": {},
   "source": [
    "Param_set_8: lambda = 1, regParam = 0.01, vectorizer = W2V vectorizer"
   ]
  },
  {
   "cell_type": "code",
   "execution_count": 62,
   "metadata": {},
   "outputs": [],
   "source": [
    "AUC_param_8_train = np.array([0.9181049839734063, 0.9782780610320083, 0.9465950876525094, 0.9482547276283901, 0.9345179975074228, 0.9409240883579049])\n",
    "AUC_param_8_test = np.array([0.9153539759263474, 0.9733248674285194, 0.9477500345947627, 0.9256895985801793, 0.937725918752854, 0.9350720685465609])"
   ]
  },
  {
   "cell_type": "code",
   "execution_count": 89,
   "metadata": {},
   "outputs": [
    {
     "data": {
      "text/plain": [
       "(0.944445824358607, 0.9391527439715374)"
      ]
     },
     "execution_count": 89,
     "metadata": {},
     "output_type": "execute_result"
    }
   ],
   "source": [
    "AUC_param_8_train.mean(),AUC_param_8_test.mean()"
   ]
  },
  {
   "cell_type": "markdown",
   "metadata": {},
   "source": [
    "Param_set_9: lambda = 1, regParam = 0.03, vectorizer = TFIDF vectorizer"
   ]
  },
  {
   "cell_type": "code",
   "execution_count": 75,
   "metadata": {},
   "outputs": [],
   "source": [
    "AUC_param_9_train = np.array([0.7944742349534936, 0.9479878835458176, 0.8742397653339076, 0.9847073134028814, 0.8410870167767147, 0.9466927184565301])\n",
    "AUC_param_9_test = np.array([0.782701255346494, 0.931776652535141, 0.8552537153105858, 0.8842703749179369, 0.8351918448089468, 0.9097010765442964])"
   ]
  },
  {
   "cell_type": "code",
   "execution_count": 90,
   "metadata": {},
   "outputs": [
    {
     "data": {
      "text/plain": [
       "(0.8981981554115577, 0.8664824865772335)"
      ]
     },
     "execution_count": 90,
     "metadata": {},
     "output_type": "execute_result"
    }
   ],
   "source": [
    "AUC_param_9_train.mean(),AUC_param_9_test.mean()"
   ]
  },
  {
   "cell_type": "markdown",
   "metadata": {},
   "source": [
    "Param_set_10: lambda = 1, regParam = 0.03, vectorizer = W2V vectorizer"
   ]
  },
  {
   "cell_type": "code",
   "execution_count": 77,
   "metadata": {},
   "outputs": [],
   "source": [
    "AUC_param_10_train = np.array([0.9078840883546345, 0.9763874994940187, 0.9379533225890978, 0.9435584495384948, 0.9260453859815059, 0.9331486520583336])\n",
    "AUC_param_10_test = np.array([0.9033330518283399, 0.9709658752551709, 0.9389059315821426, 0.916761895499586, 0.9291820486396642, 0.9316734740462589 ])"
   ]
  },
  {
   "cell_type": "code",
   "execution_count": 91,
   "metadata": {},
   "outputs": [
    {
     "data": {
      "text/plain": [
       "(0.9374962330026809, 0.9318037128085271)"
      ]
     },
     "execution_count": 91,
     "metadata": {},
     "output_type": "execute_result"
    }
   ],
   "source": [
    "AUC_param_10_train.mean(),AUC_param_10_test.mean()"
   ]
  },
  {
   "cell_type": "markdown",
   "metadata": {},
   "source": [
    "Param_set_11: lambda = 1, regParam = 0.05, vectorizer = TFIDF vectorizer"
   ]
  },
  {
   "cell_type": "code",
   "execution_count": 78,
   "metadata": {},
   "outputs": [],
   "source": [
    "AUC_param_11_train = np.array([0.6522249171109082, 0.9081469455360689, 0.7463375201453036, 0.9543464868830233, 0.7332176082852968, 0.8791994871480086])\n",
    "AUC_param_11_test = np.array([0.6471573629277837, 0.9167704227399044, 0.726988968992161, 0.8691434267791568, 0.7271200293017287, 0.8704251453192089])"
   ]
  },
  {
   "cell_type": "code",
   "execution_count": 92,
   "metadata": {},
   "outputs": [
    {
     "data": {
      "text/plain": [
       "(0.8122454941847682, 0.7929342260099905)"
      ]
     },
     "execution_count": 92,
     "metadata": {},
     "output_type": "execute_result"
    }
   ],
   "source": [
    "AUC_param_11_train.mean(),AUC_param_11_test.mean()"
   ]
  },
  {
   "cell_type": "markdown",
   "metadata": {},
   "source": [
    "Param_set_12: lambda = 1, regParam = 0.05, vectorizer = W2V vectorizer"
   ]
  },
  {
   "cell_type": "code",
   "execution_count": 79,
   "metadata": {},
   "outputs": [],
   "source": [
    "AUC_param_12_train = np.array([0.8952221257541395, 0.9745718994155436, 0.9314743254750457, 0.9431563816713324, 0.9175006867224101, 0.9294675750690844])\n",
    "AUC_param_12_test = np.array([0.8902447602820087, 0.9701634457236101, 0.9335201525348473, 0.9171448369764302, 0.9223153120123251, 0.9289281026568104])"
   ]
  },
  {
   "cell_type": "code",
   "execution_count": 93,
   "metadata": {},
   "outputs": [
    {
     "data": {
      "text/plain": [
       "(0.9318988323512594, 0.9270527683643386)"
      ]
     },
     "execution_count": 93,
     "metadata": {},
     "output_type": "execute_result"
    }
   ],
   "source": [
    "AUC_param_12_train.mean(),AUC_param_12_test.mean()"
   ]
  },
  {
   "cell_type": "markdown",
   "metadata": {},
   "source": [
    "Param_set_13: lambda = 0.8, regParam = 0.01, vectorizer = W2V vectorizer ,vectorsize = 80"
   ]
  },
  {
   "cell_type": "code",
   "execution_count": 97,
   "metadata": {},
   "outputs": [],
   "source": [
    "AUC_param_13_train = np.array([0.9218621512261091, 0.9802799870385969, 0.9525953483385359, 0.9528804674959633, 0.9371357188973972, 0.9433235809618834])\n",
    "AUC_param_13_test = np.array([0.9185622879397771, 0.9767565718579667, 0.9523939453679676, 0.9210791047680265, 0.939246977426714, 0.9295578871848601])"
   ]
  },
  {
   "cell_type": "code",
   "execution_count": 98,
   "metadata": {},
   "outputs": [
    {
     "data": {
      "text/plain": [
       "(0.9480128756597476, 0.9395994624242187)"
      ]
     },
     "execution_count": 98,
     "metadata": {},
     "output_type": "execute_result"
    }
   ],
   "source": [
    "AUC_param_13_train.mean(),AUC_param_13_test.mean()"
   ]
  },
  {
   "cell_type": "markdown",
   "metadata": {},
   "source": [
    "Param_set_14: lambda = 0.5, regParam = 0.01, vectorizer = W2V vectorizer ,vectorsize = 80"
   ]
  },
  {
   "cell_type": "code",
   "execution_count": 99,
   "metadata": {},
   "outputs": [],
   "source": [
    "AUC_param_14_train = np.array([0.9209672521478861, 0.980275915649411, 0.950457723188003, 0.9534149904694769, 0.9366223072670241, 0.942951763269778])\n",
    "AUC_param_14_test = np.array([0.9172575124565662, 0.9781704606680836, 0.9521079559470235, 0.926531461985511, 0.9400023721151183, 0.9267941725566705])"
   ]
  },
  {
   "cell_type": "code",
   "execution_count": 100,
   "metadata": {},
   "outputs": [
    {
     "data": {
      "text/plain": [
       "(0.9474483253319298, 0.9401439892881621)"
      ]
     },
     "execution_count": 100,
     "metadata": {},
     "output_type": "execute_result"
    }
   ],
   "source": [
    "AUC_param_14_train.mean(),AUC_param_14_test.mean()"
   ]
  },
  {
   "cell_type": "code",
   "execution_count": null,
   "metadata": {},
   "outputs": [],
   "source": []
  },
  {
   "cell_type": "code",
   "execution_count": 73,
   "metadata": {
    "scrolled": true
   },
   "outputs": [],
   "source": [
    "def plot(y_1,y_2, vectorizer):\n",
    "    #y_1: train AUC result, input: list\n",
    "    #y_2: test AUC result, input: list\n",
    "    #vectorizer: type: str\n",
    "    x = np.array([0.01, 0.03, 0.05])\n",
    "    y_1 = np.array([y_1[0].mean(), y_1[1].mean(), y_1[2].mean()])\n",
    "    y_2 = np.array([y_2[0].mean(), y_2[1].mean(), y_2[2].mean()])\n",
    "\n",
    "    fig = plt.figure()\n",
    "    ax = fig.add_subplot(1,1,1)\n",
    "\n",
    "    ax.plot(x, y_1, color = 'b', ls = '--', marker = 'o', label='train')\n",
    "    ax.plot(x, y_2, color = 'r', ls = ':', marker = 'x', label='test')\n",
    "\n",
    "    plt.title('AUC train vs test ' + vectorizer)\n",
    "    plt.xlabel('regParam')\n",
    "    plt.ylabel('Area Under Curve')\n",
    "    plt.yticks(np.arange(min(min(y_1), min(y_2))-0.1, max(max(y_1), max(y_2))+0.1, 0.1))\n",
    "\n",
    "    ax.legend()\n",
    "    plt.show()"
   ]
  },
  {
   "cell_type": "code",
   "execution_count": 74,
   "metadata": {},
   "outputs": [
    {
     "data": {
      "image/png": "[encoded data removed]",
      "text/plain": [
       "<Figure size 432x288 with 1 Axes>"
      ]
     },
     "metadata": {},
     "output_type": "display_data"
    }
   ],
   "source": [
    "y_1 = [AUC_param_1_train,AUC_param_3_train,AUC_param_5_train]\n",
    "y_2 = [AUC_param_1_test,AUC_param_3_test,AUC_param_5_test]\n",
    "plot(y_1,y_2, 'TFIDF')"
   ]
  },
  {
   "cell_type": "code",
   "execution_count": 80,
   "metadata": {},
   "outputs": [
    {
     "data": {
      "image/png": "[encoded data removed]",
      "text/plain": [
       "<Figure size 432x288 with 1 Axes>"
      ]
     },
     "metadata": {},
     "output_type": "display_data"
    }
   ],
   "source": [
    "y_1 = [AUC_param_7_train,AUC_param_9_train,AUC_param_11_train]\n",
    "y_2 = [AUC_param_7_test,AUC_param_9_test,AUC_param_11_test]\n",
    "plot(y_1,y_2, 'TFIDF')"
   ]
  },
  {
   "cell_type": "code",
   "execution_count": 58,
   "metadata": {},
   "outputs": [
    {
     "data": {
      "image/png": "[encoded data removed]",
      "text/plain": [
       "<Figure size 432x288 with 1 Axes>"
      ]
     },
     "metadata": {},
     "output_type": "display_data"
    }
   ],
   "source": [
    "y_1 = [AUC_param_2_train,AUC_param_4_train,AUC_param_6_train]\n",
    "y_2 = [AUC_param_2_test,AUC_param_4_test,AUC_param_6_test]\n",
    "plot(y_1,y_2, 'W2V')"
   ]
  },
  {
   "cell_type": "code",
   "execution_count": 81,
   "metadata": {},
   "outputs": [
    {
     "data": {
      "image/png": "[encoded data removed]",
      "text/plain": [
       "<Figure size 432x288 with 1 Axes>"
      ]
     },
     "metadata": {},
     "output_type": "display_data"
    }
   ],
   "source": [
    "y_1 = [AUC_param_8_train,AUC_param_10_train,AUC_param_12_train]\n",
    "y_2 = [AUC_param_8_test,AUC_param_10_test,AUC_param_12_test]\n",
    "plot(y_1,y_2, 'W2V')"
   ]
  },
  {
   "cell_type": "code",
   "execution_count": null,
   "metadata": {},
   "outputs": [],
   "source": []
  },
  {
   "cell_type": "code",
   "execution_count": null,
   "metadata": {},
   "outputs": [],
   "source": []
  },
  {
   "cell_type": "code",
   "execution_count": null,
   "metadata": {},
   "outputs": [],
   "source": []
  },
  {
   "cell_type": "code",
   "execution_count": null,
   "metadata": {},
   "outputs": [],
   "source": []
  },
  {
   "cell_type": "code",
   "execution_count": null,
   "metadata": {},
   "outputs": [],
   "source": []
  },
  {
   "cell_type": "code",
   "execution_count": null,
   "metadata": {},
   "outputs": [],
   "source": []
  },
  {
   "cell_type": "code",
   "execution_count": null,
   "metadata": {},
   "outputs": [],
   "source": []
  }
 ],
 "metadata": {
  "kernelspec": {
   "display_name": "Python 3",
   "language": "python",
   "name": "python3"
  },
  "language_info": {
   "codemirror_mode": {
    "name": "ipython",
    "version": 3
   },
   "file_extension": ".py",
   "mimetype": "text/x-python",
   "name": "python",
   "nbconvert_exporter": "python",
   "pygments_lexer": "ipython3",
   "version": "3.6.5"
  }
 },
 "nbformat": 4,
 "nbformat_minor": 2
}
